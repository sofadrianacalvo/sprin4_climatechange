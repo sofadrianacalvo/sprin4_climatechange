{
 "cells": [
  {
   "cell_type": "markdown",
   "id": "1aeff10f",
   "metadata": {},
   "source": [
    "## Importing Libraries"
   ]
  },
  {
   "cell_type": "code",
   "execution_count": 1,
   "id": "0b7a9e7a",
   "metadata": {},
   "outputs": [],
   "source": [
    "import pandas as pd\n",
    "import numpy as np\n",
    "import matplotlib.pyplot as plt\n",
    "import seaborn as sns"
   ]
  },
  {
   "cell_type": "code",
   "execution_count": 2,
   "id": "63de63a2",
   "metadata": {},
   "outputs": [],
   "source": [
    "import re\n",
    "import nltk\n",
    "from nltk.corpus import stopwords"
   ]
  },
  {
   "cell_type": "markdown",
   "id": "dec7177b",
   "metadata": {},
   "source": [
    "## Importing DataFrame"
   ]
  },
  {
   "cell_type": "code",
   "execution_count": 3,
   "id": "6c8bde2a",
   "metadata": {},
   "outputs": [
    {
     "data": {
      "text/html": [
       "<div>\n",
       "<style scoped>\n",
       "    .dataframe tbody tr th:only-of-type {\n",
       "        vertical-align: middle;\n",
       "    }\n",
       "\n",
       "    .dataframe tbody tr th {\n",
       "        vertical-align: top;\n",
       "    }\n",
       "\n",
       "    .dataframe thead th {\n",
       "        text-align: right;\n",
       "    }\n",
       "</style>\n",
       "<table border=\"1\" class=\"dataframe\">\n",
       "  <thead>\n",
       "    <tr style=\"text-align: right;\">\n",
       "      <th></th>\n",
       "      <th>id</th>\n",
       "      <th>conversation_id</th>\n",
       "      <th>created_at</th>\n",
       "      <th>date</th>\n",
       "      <th>time</th>\n",
       "      <th>timezone</th>\n",
       "      <th>user_id</th>\n",
       "      <th>username</th>\n",
       "      <th>name</th>\n",
       "      <th>place</th>\n",
       "      <th>...</th>\n",
       "      <th>user_rt_id</th>\n",
       "      <th>user_rt</th>\n",
       "      <th>retweet_id</th>\n",
       "      <th>reply_to</th>\n",
       "      <th>retweet_date</th>\n",
       "      <th>translate</th>\n",
       "      <th>trans_src</th>\n",
       "      <th>trans_dest</th>\n",
       "      <th>emoji_count</th>\n",
       "      <th>country</th>\n",
       "    </tr>\n",
       "  </thead>\n",
       "  <tbody>\n",
       "    <tr>\n",
       "      <th>0</th>\n",
       "      <td>1590841293047201797</td>\n",
       "      <td>1590841293047201797</td>\n",
       "      <td>2022-11-11 06:58:15 PST</td>\n",
       "      <td>2022-11-11</td>\n",
       "      <td>06:58:15</td>\n",
       "      <td>800</td>\n",
       "      <td>350172089</td>\n",
       "      <td>dyadav79</td>\n",
       "      <td>dyadav@gmail.com</td>\n",
       "      <td>NaN</td>\n",
       "      <td>...</td>\n",
       "      <td>NaN</td>\n",
       "      <td>NaN</td>\n",
       "      <td>NaN</td>\n",
       "      <td>[]</td>\n",
       "      <td>NaN</td>\n",
       "      <td>NaN</td>\n",
       "      <td>NaN</td>\n",
       "      <td>NaN</td>\n",
       "      <td>0</td>\n",
       "      <td>India</td>\n",
       "    </tr>\n",
       "    <tr>\n",
       "      <th>1</th>\n",
       "      <td>1590809231175057409</td>\n",
       "      <td>1590809231175057409</td>\n",
       "      <td>2022-11-11 04:50:51 PST</td>\n",
       "      <td>2022-11-11</td>\n",
       "      <td>04:50:51</td>\n",
       "      <td>800</td>\n",
       "      <td>1421192870</td>\n",
       "      <td>shamitaharsh</td>\n",
       "      <td>Shamita Harsh</td>\n",
       "      <td>NaN</td>\n",
       "      <td>...</td>\n",
       "      <td>NaN</td>\n",
       "      <td>NaN</td>\n",
       "      <td>NaN</td>\n",
       "      <td>[]</td>\n",
       "      <td>NaN</td>\n",
       "      <td>NaN</td>\n",
       "      <td>NaN</td>\n",
       "      <td>NaN</td>\n",
       "      <td>0</td>\n",
       "      <td>India</td>\n",
       "    </tr>\n",
       "    <tr>\n",
       "      <th>2</th>\n",
       "      <td>1590779888348573696</td>\n",
       "      <td>1590779888348573696</td>\n",
       "      <td>2022-11-11 02:54:15 PST</td>\n",
       "      <td>2022-11-11</td>\n",
       "      <td>02:54:15</td>\n",
       "      <td>800</td>\n",
       "      <td>1356150453277323264</td>\n",
       "      <td>shivam_dwivedii</td>\n",
       "      <td>Shivam Dwivedi</td>\n",
       "      <td>NaN</td>\n",
       "      <td>...</td>\n",
       "      <td>NaN</td>\n",
       "      <td>NaN</td>\n",
       "      <td>NaN</td>\n",
       "      <td>[]</td>\n",
       "      <td>NaN</td>\n",
       "      <td>NaN</td>\n",
       "      <td>NaN</td>\n",
       "      <td>NaN</td>\n",
       "      <td>0</td>\n",
       "      <td>India</td>\n",
       "    </tr>\n",
       "    <tr>\n",
       "      <th>3</th>\n",
       "      <td>1590772740008517632</td>\n",
       "      <td>1590769151110705152</td>\n",
       "      <td>2022-11-11 02:25:51 PST</td>\n",
       "      <td>2022-11-11</td>\n",
       "      <td>02:25:51</td>\n",
       "      <td>800</td>\n",
       "      <td>1585136338201821184</td>\n",
       "      <td>tanzil_mansuri1</td>\n",
       "      <td>Tanzil Mansuri</td>\n",
       "      <td>NaN</td>\n",
       "      <td>...</td>\n",
       "      <td>NaN</td>\n",
       "      <td>NaN</td>\n",
       "      <td>NaN</td>\n",
       "      <td>[{'screen_name': 'SophiaKianni', 'name': 'Soph...</td>\n",
       "      <td>NaN</td>\n",
       "      <td>NaN</td>\n",
       "      <td>NaN</td>\n",
       "      <td>NaN</td>\n",
       "      <td>0</td>\n",
       "      <td>India</td>\n",
       "    </tr>\n",
       "    <tr>\n",
       "      <th>4</th>\n",
       "      <td>1590746473347571719</td>\n",
       "      <td>1590746473347571719</td>\n",
       "      <td>2022-11-11 00:41:28 PST</td>\n",
       "      <td>2022-11-11</td>\n",
       "      <td>00:41:28</td>\n",
       "      <td>800</td>\n",
       "      <td>487662656</td>\n",
       "      <td>swatibhalla23</td>\n",
       "      <td>Swati Bhalla</td>\n",
       "      <td>NaN</td>\n",
       "      <td>...</td>\n",
       "      <td>NaN</td>\n",
       "      <td>NaN</td>\n",
       "      <td>NaN</td>\n",
       "      <td>[]</td>\n",
       "      <td>NaN</td>\n",
       "      <td>NaN</td>\n",
       "      <td>NaN</td>\n",
       "      <td>NaN</td>\n",
       "      <td>0</td>\n",
       "      <td>India</td>\n",
       "    </tr>\n",
       "  </tbody>\n",
       "</table>\n",
       "<p>5 rows × 38 columns</p>\n",
       "</div>"
      ],
      "text/plain": [
       "                    id      conversation_id               created_at  \\\n",
       "0  1590841293047201797  1590841293047201797  2022-11-11 06:58:15 PST   \n",
       "1  1590809231175057409  1590809231175057409  2022-11-11 04:50:51 PST   \n",
       "2  1590779888348573696  1590779888348573696  2022-11-11 02:54:15 PST   \n",
       "3  1590772740008517632  1590769151110705152  2022-11-11 02:25:51 PST   \n",
       "4  1590746473347571719  1590746473347571719  2022-11-11 00:41:28 PST   \n",
       "\n",
       "         date      time  timezone              user_id         username  \\\n",
       "0  2022-11-11  06:58:15       800            350172089         dyadav79   \n",
       "1  2022-11-11  04:50:51       800           1421192870     shamitaharsh   \n",
       "2  2022-11-11  02:54:15       800  1356150453277323264  shivam_dwivedii   \n",
       "3  2022-11-11  02:25:51       800  1585136338201821184  tanzil_mansuri1   \n",
       "4  2022-11-11  00:41:28       800            487662656    swatibhalla23   \n",
       "\n",
       "               name place  ... user_rt_id user_rt retweet_id  \\\n",
       "0  dyadav@gmail.com   NaN  ...        NaN     NaN        NaN   \n",
       "1     Shamita Harsh   NaN  ...        NaN     NaN        NaN   \n",
       "2    Shivam Dwivedi   NaN  ...        NaN     NaN        NaN   \n",
       "3    Tanzil Mansuri   NaN  ...        NaN     NaN        NaN   \n",
       "4      Swati Bhalla   NaN  ...        NaN     NaN        NaN   \n",
       "\n",
       "                                            reply_to retweet_date  translate  \\\n",
       "0                                                 []          NaN        NaN   \n",
       "1                                                 []          NaN        NaN   \n",
       "2                                                 []          NaN        NaN   \n",
       "3  [{'screen_name': 'SophiaKianni', 'name': 'Soph...          NaN        NaN   \n",
       "4                                                 []          NaN        NaN   \n",
       "\n",
       "   trans_src  trans_dest emoji_count country  \n",
       "0        NaN         NaN           0   India  \n",
       "1        NaN         NaN           0   India  \n",
       "2        NaN         NaN           0   India  \n",
       "3        NaN         NaN           0   India  \n",
       "4        NaN         NaN           0   India  \n",
       "\n",
       "[5 rows x 38 columns]"
      ]
     },
     "metadata": {},
     "output_type": "display_data"
    },
    {
     "data": {
      "text/plain": [
       "(62751, 38)"
      ]
     },
     "metadata": {},
     "output_type": "display_data"
    }
   ],
   "source": [
    "df = pd.read_csv('../data/final_data.csv')\n",
    "display(df.head(),df.shape)"
   ]
  },
  {
   "cell_type": "code",
   "execution_count": 4,
   "id": "192b410d",
   "metadata": {},
   "outputs": [
    {
     "data": {
      "text/plain": [
       "Index(['id', 'conversation_id', 'created_at', 'date', 'time', 'timezone',\n",
       "       'user_id', 'username', 'name', 'place', 'tweet', 'language', 'mentions',\n",
       "       'urls', 'photos', 'replies_count', 'retweets_count', 'likes_count',\n",
       "       'hashtags', 'cashtags', 'link', 'retweet', 'quote_url', 'video',\n",
       "       'thumbnail', 'near', 'geo', 'source', 'user_rt_id', 'user_rt',\n",
       "       'retweet_id', 'reply_to', 'retweet_date', 'translate', 'trans_src',\n",
       "       'trans_dest', 'emoji_count', 'country'],\n",
       "      dtype='object')"
      ]
     },
     "execution_count": 4,
     "metadata": {},
     "output_type": "execute_result"
    }
   ],
   "source": [
    "df.columns"
   ]
  },
  {
   "cell_type": "markdown",
   "id": "0d81deda",
   "metadata": {},
   "source": [
    "## Additional Data Cleaning"
   ]
  },
  {
   "cell_type": "code",
   "execution_count": 5,
   "id": "958e77a4",
   "metadata": {},
   "outputs": [],
   "source": [
    "def tokenize(text):\n",
    "    split=re.split(\"\\W+\",text) \n",
    "    return split\n",
    "\n",
    "df['tokenized_text']=df['tweet'].apply(lambda x: tokenize(x.lower()))"
   ]
  },
  {
   "cell_type": "code",
   "execution_count": 6,
   "id": "9e3cbbd4",
   "metadata": {},
   "outputs": [],
   "source": [
    "new_stopwords = ['https', 't', 'co']\n",
    "stpwrd = nltk.corpus.stopwords.words('english')\n",
    "stpwrd.extend(new_stopwords)"
   ]
  },
  {
   "cell_type": "code",
   "execution_count": 7,
   "id": "90e87891",
   "metadata": {},
   "outputs": [],
   "source": [
    "def remove_stopwords(text):\n",
    "    text=[word for word in text if word not in stpwrd]\n",
    "    return text\n",
    "\n",
    "df['clean']=df['tokenized_text'].apply(lambda x: remove_stopwords(x))"
   ]
  },
  {
   "cell_type": "code",
   "execution_count": 8,
   "id": "0f3c0241",
   "metadata": {},
   "outputs": [
    {
     "data": {
      "text/html": [
       "<div>\n",
       "<style scoped>\n",
       "    .dataframe tbody tr th:only-of-type {\n",
       "        vertical-align: middle;\n",
       "    }\n",
       "\n",
       "    .dataframe tbody tr th {\n",
       "        vertical-align: top;\n",
       "    }\n",
       "\n",
       "    .dataframe thead th {\n",
       "        text-align: right;\n",
       "    }\n",
       "</style>\n",
       "<table border=\"1\" class=\"dataframe\">\n",
       "  <thead>\n",
       "    <tr style=\"text-align: right;\">\n",
       "      <th></th>\n",
       "      <th>clean_text</th>\n",
       "    </tr>\n",
       "  </thead>\n",
       "  <tbody>\n",
       "    <tr>\n",
       "      <th>0</th>\n",
       "      <td>world talking alternate sources energy shiftin...</td>\n",
       "    </tr>\n",
       "    <tr>\n",
       "      <th>1</th>\n",
       "      <td>story climate conflict brought human trafficki...</td>\n",
       "    </tr>\n",
       "    <tr>\n",
       "      <th>2</th>\n",
       "      <td>climate change reduced date production blockad...</td>\n",
       "    </tr>\n",
       "    <tr>\n",
       "      <th>3</th>\n",
       "      <td>sophiakianni unicef world needs take legal ac...</td>\n",
       "    </tr>\n",
       "    <tr>\n",
       "      <th>4</th>\n",
       "      <td>volunteer us cleandelhi swachhbharat mycleanin...</td>\n",
       "    </tr>\n",
       "    <tr>\n",
       "      <th>...</th>\n",
       "      <td>...</td>\n",
       "    </tr>\n",
       "    <tr>\n",
       "      <th>62746</th>\n",
       "      <td>called consumers withdraw stop banking compani...</td>\n",
       "    </tr>\n",
       "    <tr>\n",
       "      <th>62747</th>\n",
       "      <td>today youth day cop climate change threat futu...</td>\n",
       "    </tr>\n",
       "    <tr>\n",
       "      <th>62748</th>\n",
       "      <td>guessing live nice part michigan crime effect...</td>\n",
       "    </tr>\n",
       "    <tr>\n",
       "      <th>62749</th>\n",
       "      <td>cop climate change framed battle survival nwog...</td>\n",
       "    </tr>\n",
       "    <tr>\n",
       "      <th>62750</th>\n",
       "      <td>scientists rallying save ponds mcgovan news hu...</td>\n",
       "    </tr>\n",
       "  </tbody>\n",
       "</table>\n",
       "<p>62751 rows × 1 columns</p>\n",
       "</div>"
      ],
      "text/plain": [
       "                                              clean_text\n",
       "0      world talking alternate sources energy shiftin...\n",
       "1      story climate conflict brought human trafficki...\n",
       "2      climate change reduced date production blockad...\n",
       "3       sophiakianni unicef world needs take legal ac...\n",
       "4      volunteer us cleandelhi swachhbharat mycleanin...\n",
       "...                                                  ...\n",
       "62746  called consumers withdraw stop banking compani...\n",
       "62747  today youth day cop climate change threat futu...\n",
       "62748   guessing live nice part michigan crime effect...\n",
       "62749  cop climate change framed battle survival nwog...\n",
       "62750  scientists rallying save ponds mcgovan news hu...\n",
       "\n",
       "[62751 rows x 1 columns]"
      ]
     },
     "execution_count": 8,
     "metadata": {},
     "output_type": "execute_result"
    }
   ],
   "source": [
    "df['clean_text'] = df['clean'].str.join(\" \")\n",
    "df[['clean_text']]"
   ]
  },
  {
   "cell_type": "code",
   "execution_count": 9,
   "id": "a89a3c28",
   "metadata": {
    "scrolled": false
   },
   "outputs": [
    {
     "data": {
      "text/html": [
       "<div>\n",
       "<style scoped>\n",
       "    .dataframe tbody tr th:only-of-type {\n",
       "        vertical-align: middle;\n",
       "    }\n",
       "\n",
       "    .dataframe tbody tr th {\n",
       "        vertical-align: top;\n",
       "    }\n",
       "\n",
       "    .dataframe thead th {\n",
       "        text-align: right;\n",
       "    }\n",
       "</style>\n",
       "<table border=\"1\" class=\"dataframe\">\n",
       "  <thead>\n",
       "    <tr style=\"text-align: right;\">\n",
       "      <th></th>\n",
       "      <th>clean_text</th>\n",
       "      <th>country</th>\n",
       "    </tr>\n",
       "  </thead>\n",
       "  <tbody>\n",
       "    <tr>\n",
       "      <th>0</th>\n",
       "      <td>world talking alternate sources energy shiftin...</td>\n",
       "      <td>India</td>\n",
       "    </tr>\n",
       "    <tr>\n",
       "      <th>1</th>\n",
       "      <td>story climate conflict brought human trafficki...</td>\n",
       "      <td>India</td>\n",
       "    </tr>\n",
       "    <tr>\n",
       "      <th>2</th>\n",
       "      <td>climate change reduced date production blockad...</td>\n",
       "      <td>India</td>\n",
       "    </tr>\n",
       "    <tr>\n",
       "      <th>3</th>\n",
       "      <td>sophiakianni unicef world needs take legal ac...</td>\n",
       "      <td>India</td>\n",
       "    </tr>\n",
       "    <tr>\n",
       "      <th>4</th>\n",
       "      <td>volunteer us cleandelhi swachhbharat mycleanin...</td>\n",
       "      <td>India</td>\n",
       "    </tr>\n",
       "    <tr>\n",
       "      <th>...</th>\n",
       "      <td>...</td>\n",
       "      <td>...</td>\n",
       "    </tr>\n",
       "    <tr>\n",
       "      <th>62746</th>\n",
       "      <td>called consumers withdraw stop banking compani...</td>\n",
       "      <td>USA</td>\n",
       "    </tr>\n",
       "    <tr>\n",
       "      <th>62747</th>\n",
       "      <td>today youth day cop climate change threat futu...</td>\n",
       "      <td>USA</td>\n",
       "    </tr>\n",
       "    <tr>\n",
       "      <th>62748</th>\n",
       "      <td>guessing live nice part michigan crime effect...</td>\n",
       "      <td>USA</td>\n",
       "    </tr>\n",
       "    <tr>\n",
       "      <th>62749</th>\n",
       "      <td>cop climate change framed battle survival nwog...</td>\n",
       "      <td>USA</td>\n",
       "    </tr>\n",
       "    <tr>\n",
       "      <th>62750</th>\n",
       "      <td>scientists rallying save ponds mcgovan news hu...</td>\n",
       "      <td>USA</td>\n",
       "    </tr>\n",
       "  </tbody>\n",
       "</table>\n",
       "<p>62751 rows × 2 columns</p>\n",
       "</div>"
      ],
      "text/plain": [
       "                                              clean_text country\n",
       "0      world talking alternate sources energy shiftin...   India\n",
       "1      story climate conflict brought human trafficki...   India\n",
       "2      climate change reduced date production blockad...   India\n",
       "3       sophiakianni unicef world needs take legal ac...   India\n",
       "4      volunteer us cleandelhi swachhbharat mycleanin...   India\n",
       "...                                                  ...     ...\n",
       "62746  called consumers withdraw stop banking compani...     USA\n",
       "62747  today youth day cop climate change threat futu...     USA\n",
       "62748   guessing live nice part michigan crime effect...     USA\n",
       "62749  cop climate change framed battle survival nwog...     USA\n",
       "62750  scientists rallying save ponds mcgovan news hu...     USA\n",
       "\n",
       "[62751 rows x 2 columns]"
      ]
     },
     "execution_count": 9,
     "metadata": {},
     "output_type": "execute_result"
    }
   ],
   "source": [
    "tweets = df[['clean_text', 'country']]\n",
    "tweets"
   ]
  },
  {
   "cell_type": "markdown",
   "id": "9b8adef9",
   "metadata": {},
   "source": [
    "## Resampling of Dataset"
   ]
  },
  {
   "cell_type": "code",
   "execution_count": 10,
   "id": "04f7b318",
   "metadata": {},
   "outputs": [],
   "source": [
    "import spacy\n",
    "from collections import Counter\n",
    "nlp = spacy.load(\"en_core_web_md\")"
   ]
  },
  {
   "cell_type": "markdown",
   "id": "ea293c33",
   "metadata": {},
   "source": [
    "## ASEAN ENTITIES"
   ]
  },
  {
   "cell_type": "code",
   "execution_count": null,
   "id": "0a9b5d4f",
   "metadata": {},
   "outputs": [],
   "source": [
    "asean = ['Malaysia', 'Indonesia', 'Philippines', 'Vietnam', 'Thailand']\n",
    "\n",
    "tweets_asean = tweets[tweets['country'].isin(asean)]\n",
    "tweets_asean"
   ]
  },
  {
   "cell_type": "code",
   "execution_count": null,
   "id": "5e44c2a4",
   "metadata": {},
   "outputs": [],
   "source": [
    "tweets_asean = tweets_asean.sample(frac=0.5, replace=True, random_state=1)\n",
    "tweets_asean"
   ]
  },
  {
   "cell_type": "code",
   "execution_count": null,
   "id": "a5482f65",
   "metadata": {},
   "outputs": [],
   "source": [
    "nlp.max_length = 2000000\n",
    "tokens = nlp(''.join(str(tweets_asean.clean_text.tolist())))"
   ]
  },
  {
   "cell_type": "code",
   "execution_count": null,
   "id": "44c5f118",
   "metadata": {},
   "outputs": [],
   "source": [
    "items = [x.text for x in tokens.ents]\n",
    "Counter(items).most_common(20)"
   ]
  },
  {
   "cell_type": "code",
   "execution_count": null,
   "id": "8d20fae4",
   "metadata": {},
   "outputs": [],
   "source": [
    "org_list = []\n",
    "for ent in tokens.ents:\n",
    "    if ent.label_ == 'ORG' or ent.label_ == 'GPE':\n",
    "        org_list.append(ent.text)\n",
    "        \n",
    "ent_counts = Counter(org_list).most_common(10)\n",
    "df_entities = pd.DataFrame(ent_counts, columns =['text', 'count'])"
   ]
  },
  {
   "cell_type": "code",
   "execution_count": null,
   "id": "fa3969b8",
   "metadata": {},
   "outputs": [],
   "source": [
    "df_entities"
   ]
  },
  {
   "cell_type": "code",
   "execution_count": null,
   "id": "84b1fd59",
   "metadata": {},
   "outputs": [],
   "source": [
    "fig, ax = plt.subplots(figsize=(10, 6))\n",
    "sns.barplot(data = df_entities, x = 'count', y = 'text', color ='#1870d5')\n",
    "for spine in ['right', 'top']:\n",
    "    ax.spines[spine].set_visible(False)\n",
    "\n",
    "ax.set(xlabel = 'Number of times mentioned', ylabel = 'Entities', title = 'Most Mentioned Entities')"
   ]
  },
  {
   "cell_type": "markdown",
   "id": "2e315a61",
   "metadata": {},
   "source": [
    "## US ENTITIES"
   ]
  },
  {
   "cell_type": "code",
   "execution_count": null,
   "id": "6a72c412",
   "metadata": {},
   "outputs": [],
   "source": [
    "us = ['USA']\n",
    "\n",
    "tweets_us = tweets[tweets['country'].isin(us)]\n",
    "tweets_us"
   ]
  },
  {
   "cell_type": "code",
   "execution_count": null,
   "id": "ea3eb44f",
   "metadata": {},
   "outputs": [],
   "source": [
    "tweets_us = tweets_us.sample(frac=0.3, replace=True, random_state=1)\n",
    "tweets_us"
   ]
  },
  {
   "cell_type": "code",
   "execution_count": null,
   "id": "1c81fdde",
   "metadata": {},
   "outputs": [],
   "source": [
    "nlp.max_length = 2000000\n",
    "tokens = nlp(''.join(str(tweets_us.clean_text.tolist())))"
   ]
  },
  {
   "cell_type": "code",
   "execution_count": null,
   "id": "1c62317c",
   "metadata": {},
   "outputs": [],
   "source": [
    "items = [x.text for x in tokens.ents]\n",
    "Counter(items).most_common(20)"
   ]
  },
  {
   "cell_type": "code",
   "execution_count": null,
   "id": "352e2713",
   "metadata": {},
   "outputs": [],
   "source": [
    "org_list = []\n",
    "for ent in tokens.ents:\n",
    "    if ent.label_ == 'ORG' or ent.label_ == 'GPE' or ent.label_ == 'NORP':\n",
    "        org_list.append(ent.text)\n",
    "        \n",
    "ent_counts = Counter(org_list).most_common(10)\n",
    "df_entities = pd.DataFrame(ent_counts, columns =['text', 'count'])"
   ]
  },
  {
   "cell_type": "code",
   "execution_count": null,
   "id": "2b195346",
   "metadata": {},
   "outputs": [],
   "source": [
    "fig, ax = plt.subplots(figsize=(10, 6))\n",
    "sns.barplot(data = df_entities, x = 'count', y = 'text', color ='#1870d5')\n",
    "for spine in ['right', 'top']:\n",
    "    ax.spines[spine].set_visible(False)\n",
    "\n",
    "ax.set(xlabel = 'Number of times mentioned', ylabel = 'Entities', title = 'Most Mentioned Entities in the US')"
   ]
  },
  {
   "cell_type": "markdown",
   "id": "8a55380b",
   "metadata": {},
   "source": [
    "## Other Entities"
   ]
  },
  {
   "cell_type": "code",
   "execution_count": null,
   "id": "7cdcb57e",
   "metadata": {},
   "outputs": [],
   "source": [
    "others = ['Japan', 'Iran', 'Russia', 'India']\n",
    "\n",
    "tweets_others = tweets[tweets['country'].isin(others)]\n",
    "tweets_others"
   ]
  },
  {
   "cell_type": "code",
   "execution_count": null,
   "id": "940208a6",
   "metadata": {},
   "outputs": [],
   "source": [
    "tweets_others = tweets_others.sample(frac=0.4, replace=True, random_state=1)\n",
    "tweets_others"
   ]
  },
  {
   "cell_type": "code",
   "execution_count": null,
   "id": "eb0b3ca0",
   "metadata": {},
   "outputs": [],
   "source": [
    "nlp.max_length = 2000000\n",
    "tokens = nlp(''.join(str(tweets_others.clean_text.tolist())))"
   ]
  },
  {
   "cell_type": "code",
   "execution_count": null,
   "id": "7fdc48aa",
   "metadata": {},
   "outputs": [],
   "source": [
    "items = [x.text for x in tokens.ents]\n",
    "Counter(items).most_common(20)"
   ]
  },
  {
   "cell_type": "code",
   "execution_count": null,
   "id": "fad6f0b1",
   "metadata": {},
   "outputs": [],
   "source": [
    "org_list = []\n",
    "for ent in tokens.ents:\n",
    "    if ent.label_ == 'ORG' or ent.label_ == 'GPE' or ent.label_ == 'NORP':\n",
    "        org_list.append(ent.text)\n",
    "        \n",
    "ent_counts = Counter(org_list).most_common(10)\n",
    "df_entities = pd.DataFrame(ent_counts, columns =['text', 'count'])"
   ]
  },
  {
   "cell_type": "code",
   "execution_count": null,
   "id": "4b84ec23",
   "metadata": {},
   "outputs": [],
   "source": [
    "fig, ax = plt.subplots(figsize=(10, 6))\n",
    "sns.barplot(data = df_entities, x = 'count', y = 'text', color ='#1870d5')\n",
    "for spine in ['right', 'top']:\n",
    "    ax.spines[spine].set_visible(False)\n",
    "\n",
    "ax.set(xlabel = 'Number of times mentioned', ylabel = 'Entities', title = 'Most Mentioned Entities in the US')"
   ]
  },
  {
   "cell_type": "markdown",
   "id": "5d92e131",
   "metadata": {},
   "source": [
    "## Entities in all"
   ]
  },
  {
   "cell_type": "code",
   "execution_count": 11,
   "id": "4fd412ef",
   "metadata": {},
   "outputs": [
    {
     "data": {
      "text/html": [
       "<div>\n",
       "<style scoped>\n",
       "    .dataframe tbody tr th:only-of-type {\n",
       "        vertical-align: middle;\n",
       "    }\n",
       "\n",
       "    .dataframe tbody tr th {\n",
       "        vertical-align: top;\n",
       "    }\n",
       "\n",
       "    .dataframe thead th {\n",
       "        text-align: right;\n",
       "    }\n",
       "</style>\n",
       "<table border=\"1\" class=\"dataframe\">\n",
       "  <thead>\n",
       "    <tr style=\"text-align: right;\">\n",
       "      <th></th>\n",
       "      <th>clean_text</th>\n",
       "      <th>country</th>\n",
       "    </tr>\n",
       "  </thead>\n",
       "  <tbody>\n",
       "    <tr>\n",
       "      <th>56422</th>\n",
       "      <td>climate change sure anything jibbity jab</td>\n",
       "      <td>USA</td>\n",
       "    </tr>\n",
       "    <tr>\n",
       "      <th>15795</th>\n",
       "      <td>jersey junction adapt business model climate c...</td>\n",
       "      <td>Philippines</td>\n",
       "    </tr>\n",
       "    <tr>\n",
       "      <th>860</th>\n",
       "      <td>lets talk climatechange drum effective climate...</td>\n",
       "      <td>India</td>\n",
       "    </tr>\n",
       "    <tr>\n",
       "      <th>38158</th>\n",
       "      <td>maybe person could drastically help climate ch...</td>\n",
       "      <td>USA</td>\n",
       "    </tr>\n",
       "    <tr>\n",
       "      <th>62570</th>\n",
       "      <td>going degrees sunday climate change november c...</td>\n",
       "      <td>USA</td>\n",
       "    </tr>\n",
       "    <tr>\n",
       "      <th>...</th>\n",
       "      <td>...</td>\n",
       "      <td>...</td>\n",
       "    </tr>\n",
       "    <tr>\n",
       "      <th>7058</th>\n",
       "      <td>saudi arabia reached wish u best luck biggest ...</td>\n",
       "      <td>India</td>\n",
       "    </tr>\n",
       "    <tr>\n",
       "      <th>17206</th>\n",
       "      <td>kerem true representation think globally act l...</td>\n",
       "      <td>Philippines</td>\n",
       "    </tr>\n",
       "    <tr>\n",
       "      <th>11894</th>\n",
       "      <td>fact kerem joining cop huge many states taking...</td>\n",
       "      <td>Philippines</td>\n",
       "    </tr>\n",
       "    <tr>\n",
       "      <th>2939</th>\n",
       "      <td>bidens message climate might one world wants o...</td>\n",
       "      <td>India</td>\n",
       "    </tr>\n",
       "    <tr>\n",
       "      <th>56248</th>\n",
       "      <td>take away freedoms mean mask mandates vaccine...</td>\n",
       "      <td>USA</td>\n",
       "    </tr>\n",
       "  </tbody>\n",
       "</table>\n",
       "<p>15688 rows × 2 columns</p>\n",
       "</div>"
      ],
      "text/plain": [
       "                                              clean_text      country\n",
       "56422          climate change sure anything jibbity jab           USA\n",
       "15795  jersey junction adapt business model climate c...  Philippines\n",
       "860    lets talk climatechange drum effective climate...        India\n",
       "38158  maybe person could drastically help climate ch...          USA\n",
       "62570  going degrees sunday climate change november c...          USA\n",
       "...                                                  ...          ...\n",
       "7058   saudi arabia reached wish u best luck biggest ...        India\n",
       "17206  kerem true representation think globally act l...  Philippines\n",
       "11894  fact kerem joining cop huge many states taking...  Philippines\n",
       "2939   bidens message climate might one world wants o...        India\n",
       "56248   take away freedoms mean mask mandates vaccine...          USA\n",
       "\n",
       "[15688 rows x 2 columns]"
      ]
     },
     "execution_count": 11,
     "metadata": {},
     "output_type": "execute_result"
    }
   ],
   "source": [
    "tweets_resampled = tweets.sample(frac=0.25, replace=True, random_state=42)\n",
    "tweets_resampled"
   ]
  },
  {
   "cell_type": "code",
   "execution_count": 12,
   "id": "94143b9a",
   "metadata": {},
   "outputs": [],
   "source": [
    "nlp.max_length = 2500000\n",
    "tokens = nlp(''.join(str(tweets_resampled.clean_text.tolist())))"
   ]
  },
  {
   "cell_type": "code",
   "execution_count": 13,
   "id": "6281ea20",
   "metadata": {},
   "outputs": [
    {
     "data": {
      "text/plain": [
       "[('egypt', 694),\n",
       " ('today', 513),\n",
       " ('one', 422),\n",
       " ('november', 373),\n",
       " ('un', 309),\n",
       " ('republicans', 238),\n",
       " ('first', 215),\n",
       " ('india', 209),\n",
       " ('florida', 196),\n",
       " ('pakistan', 164),\n",
       " ('democrats', 158),\n",
       " ('sharm el sheikh', 151),\n",
       " ('china', 145),\n",
       " ('zero', 137),\n",
       " ('philippines', 134),\n",
       " ('ukraine', 115),\n",
       " ('tomorrow', 112),\n",
       " ('sharm el', 111),\n",
       " ('africa', 101),\n",
       " ('cleandelhi swachhbharat mycleanindia visit', 100)]"
      ]
     },
     "execution_count": 13,
     "metadata": {},
     "output_type": "execute_result"
    }
   ],
   "source": [
    "items = [x.text for x in tokens.ents]\n",
    "Counter(items).most_common(20)"
   ]
  },
  {
   "cell_type": "code",
   "execution_count": 14,
   "id": "614ad57f",
   "metadata": {},
   "outputs": [],
   "source": [
    "org_list = []\n",
    "for ent in tokens.ents:\n",
    "    if ent.label_ == 'ORG' or ent.label_ == 'GPE' or ent.label_ == 'NORP':\n",
    "        org_list.append(ent.text)\n",
    "        \n",
    "ent_counts = Counter(org_list).most_common(10)\n",
    "df_entities = pd.DataFrame(ent_counts, columns =['text', 'count'])"
   ]
  },
  {
   "cell_type": "code",
   "execution_count": 15,
   "id": "6f4e65f9",
   "metadata": {},
   "outputs": [
    {
     "data": {
      "text/plain": [
       "[Text(0.5, 0, 'Number of times mentioned'),\n",
       " Text(0, 0.5, 'Entities'),\n",
       " Text(0.5, 1.0, 'Most Mentioned Entities')]"
      ]
     },
     "execution_count": 15,
     "metadata": {},
     "output_type": "execute_result"
    },
    {
     "data": {
      "image/png": "[encoded data removed]",
      "text/plain": [
       "<Figure size 1000x600 with 1 Axes>"
      ]
     },
     "metadata": {},
     "output_type": "display_data"
    }
   ],
   "source": [
    "fig, ax = plt.subplots(figsize=(10, 6))\n",
    "sns.barplot(data = df_entities, x = 'count', y = 'text', color ='#1870d5')\n",
    "for spine in ['right', 'top']:\n",
    "    ax.spines[spine].set_visible(False)\n",
    "\n",
    "ax.set(xlabel = 'Number of times mentioned', ylabel = 'Entities', title = 'Most Mentioned Entities')"
   ]
  },
  {
   "cell_type": "code",
   "execution_count": null,
   "id": "40c62dcf",
   "metadata": {},
   "outputs": [],
   "source": []
  }
 ],
 "metadata": {
  "kernelspec": {
   "display_name": "Python 3 (ipykernel)",
   "language": "python",
   "name": "python3"
  },
  "language_info": {
   "codemirror_mode": {
    "name": "ipython",
    "version": 3
   },
   "file_extension": ".py",
   "mimetype": "text/x-python",
   "name": "python",
   "nbconvert_exporter": "python",
   "pygments_lexer": "ipython3",
   "version": "3.10.7"
  }
 },
 "nbformat": 4,
 "nbformat_minor": 5
}
